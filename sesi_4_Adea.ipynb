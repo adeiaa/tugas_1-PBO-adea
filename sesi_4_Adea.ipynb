{
  "nbformat": 4,
  "nbformat_minor": 0,
  "metadata": {
    "colab": {
      "provenance": [],
      "authorship_tag": "ABX9TyNOPZtQFwf+/5UG41Xen408",
      "include_colab_link": true
    },
    "kernelspec": {
      "name": "python3",
      "display_name": "Python 3"
    },
    "language_info": {
      "name": "python"
    }
  },
  "cells": [
    {
      "cell_type": "markdown",
      "metadata": {
        "id": "view-in-github",
        "colab_type": "text"
      },
      "source": [
        "<a href=\"https://colab.research.google.com/github/adeiaa/tugas_1-PBO-adea/blob/main/sesi_4_Adea.ipynb\" target=\"_parent\"><img src=\"https://colab.research.google.com/assets/colab-badge.svg\" alt=\"Open In Colab\"/></a>"
      ]
    },
    {
      "cell_type": "markdown",
      "source": [
        "\n",
        "Membuat fungsi tanpa parameter"
      ],
      "metadata": {
        "id": "4M3ojo3vRBJl"
      }
    },
    {
      "cell_type": "code",
      "source": [
        "# Deklarasi fungsi salam_olahraga\n",
        "def salam_olahraga():\n",
        "    # Mencetak ouput pada fungsi salam_olahraga\n",
        "    print (\"JANGAN LUPA OLAHRAGA HARI INI!\")\n",
        "\n",
        "# Memanggil fungsi salam_olahraga\n",
        "salam_olahraga()  # memanggil fungsi salam_olahraga\n",
        "salam_olahraga()  # fungsi salam_olahraga dipanggil lagi"
      ],
      "metadata": {
        "id": "N382JxOyRC1E"
      },
      "execution_count": null,
      "outputs": []
    },
    {
      "cell_type": "markdown",
      "source": [
        "Membuat fungsi dengan Parameter"
      ],
      "metadata": {
        "id": "Jn0UMMpdRPKA"
      }
    },
    {
      "cell_type": "code",
      "source": [
        "# Program Fungsi dengan parameter\n",
        "# Fungsi untuk menyapa seseorang sesuai nama yang dimasukkan sebagai parameter\n",
        "def kenalan(nama):\n",
        "     print(\"Salam, \" + nama + \". Apa kabar?\")\n",
        "\n",
        "# pemanggilan fungsi\n",
        "kenalan('Hamzah')\n",
        ""
      ],
      "metadata": {
        "colab": {
          "base_uri": "https://localhost:8080/"
        },
        "id": "x-zYA7HDRXGB",
        "outputId": "44c2d14d-2126-4c71-e15a-ee92c84e85ad"
      },
      "execution_count": 1,
      "outputs": [
        {
          "output_type": "stream",
          "name": "stdout",
          "text": [
            "Salam, Hamzah. Apa kabar?\n"
          ]
        }
      ]
    },
    {
      "cell_type": "markdown",
      "source": [
        "program untuk mencari nilai median"
      ],
      "metadata": {
        "id": "yzC-eLtaT32z"
      }
    },
    {
      "cell_type": "code",
      "source": [
        "# Menghitung dan menampilkan nilai median dari inputan tiga angka\n",
        "# Program ini dibuat dengan kata kunci def untuk membuat fungsi\n",
        "# menghitung nilai median dari 3 nilai yang diinput\n",
        "\n",
        "def median(a, b, c):\n",
        "# Proses perhitungan median cara pertama dengan perbandingan\n",
        "# Menggunakan kata kunci retun untuk mengembalikan nilai\n",
        "# untuk masing-masing nilai, yaitu a, b dan c\n",
        "  if a < b and b < c or a> b and b > c:\n",
        "    return b\n",
        "  if b < a and a < c or b > a and a > c:\n",
        "    return a\n",
        "  if c < a and b < c or c > a and b > c:\n",
        "    return c\n",
        "\n",
        "# Proses perhitungan median cara kedua\n",
        "def median2(a, b, c):\n",
        "    return a + b + c - min(a, b, c) - max(a, b, c)\n",
        "\n",
        "# Menampilkan nilai inputan 3 angka\n",
        "def utama():\n",
        "  x = float(input(\"Masukkan nilai pertama:\"))\n",
        "  y = float(input(\"Masukkan nilai kedua:\"))\n",
        "  z = float(input(\"Masukkan nilai ketiga:\"))\n",
        "\n",
        "  print(\"Nilai median dengan cara pertama:\", median(x, y, z))\n",
        "  print(\"Nilai median dengan cara kedua:\", median2(x, y, z))\n",
        "\n",
        "# Memanggil fungsi utama()\n",
        "utama()"
      ],
      "metadata": {
        "colab": {
          "base_uri": "https://localhost:8080/"
        },
        "id": "zcZbIBfkT6dR",
        "outputId": "43ab0abf-b3f0-4ceb-d2ed-065da7e81001"
      },
      "execution_count": 2,
      "outputs": [
        {
          "output_type": "stream",
          "name": "stdout",
          "text": [
            "Masukkan nilai pertama:10\n",
            "Masukkan nilai kedua:12\n",
            "Masukkan nilai ketiga:5\n",
            "Nilai median dengan cara pertama: 10.0\n",
            "Nilai median dengan cara kedua: 10.0\n"
          ]
        }
      ]
    }
  ]
}